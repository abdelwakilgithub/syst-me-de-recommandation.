{
 "cells": [
  {
   "cell_type": "code",
   "execution_count": 1,
   "metadata": {},
   "outputs": [],
   "source": [
    "import pandas as pd\n",
    "import numpy as np"
   ]
  },
  {
   "cell_type": "code",
   "execution_count": 2,
   "metadata": {},
   "outputs": [],
   "source": [
    "excel = pd.read_excel(\"Reviews-Asmi.xlsx\")"
   ]
  },
  {
   "cell_type": "code",
   "execution_count": 3,
   "metadata": {},
   "outputs": [],
   "source": [
    "table_rating = excel.rename(columns={'reviewerName': 'User','categories': 'Product'})"
   ]
  },
  {
   "cell_type": "code",
   "execution_count": 4,
   "metadata": {},
   "outputs": [
    {
     "name": "stdout",
     "output_type": "stream",
     "text": [
      "<class 'pandas.core.frame.DataFrame'>\n",
      "RangeIndex: 1200 entries, 0 to 1199\n",
      "Data columns (total 9 columns):\n",
      " #   Column                Non-Null Count  Dtype \n",
      "---  ------                --------------  ----- \n",
      " 0   rating                1200 non-null   int64 \n",
      " 1   User                  1200 non-null   object\n",
      " 2   Product               1200 non-null   object\n",
      " 3   gPlusPlaceId          1200 non-null   object\n",
      " 4   unixReviewTime        1200 non-null   object\n",
      " 5   reviewTime            1200 non-null   object\n",
      " 6   gPlusUserId           1200 non-null   object\n",
      " 7   reviews/categories/1  552 non-null    object\n",
      " 8   reviews/categories/2  294 non-null    object\n",
      "dtypes: int64(1), object(8)\n",
      "memory usage: 84.5+ KB\n"
     ]
    }
   ],
   "source": [
    "table_rating.info()"
   ]
  },
  {
   "cell_type": "code",
   "execution_count": 5,
   "metadata": {},
   "outputs": [
    {
     "data": {
      "text/plain": [
       "Restaurant                  107\n",
       "Hotel                        70\n",
       "None                         59\n",
       "Asian Restaurant             57\n",
       "European Restaurant          24\n",
       "                           ... \n",
       "Hairdresser                   1\n",
       "Advertising Agency            1\n",
       "其他美食-其他美食                     1\n",
       "Hoteles                       1\n",
       "Lawn Sprinkler System...      1\n",
       "Name: Product, Length: 407, dtype: int64"
      ]
     },
     "execution_count": 5,
     "metadata": {},
     "output_type": "execute_result"
    }
   ],
   "source": [
    "table_rating[\"Product\"].value_counts()"
   ]
  },
  {
   "cell_type": "code",
   "execution_count": 6,
   "metadata": {},
   "outputs": [],
   "source": [
    "table_rating_new = table_rating.groupby(['User', 'Product']).agg({'rating': ['mean']})"
   ]
  },
  {
   "cell_type": "code",
   "execution_count": 7,
   "metadata": {},
   "outputs": [],
   "source": [
    "matrice_rating = pd.pivot_table(table_rating_new,index=[\"User\"],columns=['Product'], values=['rating']).fillna(0)"
   ]
  },
  {
   "cell_type": "code",
   "execution_count": 8,
   "metadata": {},
   "outputs": [
    {
     "data": {
      "text/html": [
       "<div>\n",
       "<style scoped>\n",
       "    .dataframe tbody tr th:only-of-type {\n",
       "        vertical-align: middle;\n",
       "    }\n",
       "\n",
       "    .dataframe tbody tr th {\n",
       "        vertical-align: top;\n",
       "    }\n",
       "\n",
       "    .dataframe thead tr th {\n",
       "        text-align: left;\n",
       "    }\n",
       "\n",
       "    .dataframe thead tr:last-of-type th {\n",
       "        text-align: right;\n",
       "    }\n",
       "</style>\n",
       "<table border=\"1\" class=\"dataframe\">\n",
       "  <thead>\n",
       "    <tr>\n",
       "      <th></th>\n",
       "      <th colspan=\"21\" halign=\"left\">rating</th>\n",
       "    </tr>\n",
       "    <tr>\n",
       "      <th></th>\n",
       "      <th colspan=\"21\" halign=\"left\">mean</th>\n",
       "    </tr>\n",
       "    <tr>\n",
       "      <th>Product</th>\n",
       "      <th>ATM Location</th>\n",
       "      <th>Acupuncture Clinic</th>\n",
       "      <th>Acura Dealer</th>\n",
       "      <th>Administracif3n Pfablica y...</th>\n",
       "      <th>Adult Entertainment Store</th>\n",
       "      <th>Advertising Agency</th>\n",
       "      <th>Aircraft Rental Service</th>\n",
       "      <th>Airport</th>\n",
       "      <th>American Restaurant</th>\n",
       "      <th>Amusement Park</th>\n",
       "      <th>...</th>\n",
       "      <th>日常外食／小吃</th>\n",
       "      <th>日本料理</th>\n",
       "      <th>焼肉店</th>\n",
       "      <th>特色住宿-民宿</th>\n",
       "      <th>製造業</th>\n",
       "      <th>觀光購物-百貨公司</th>\n",
       "      <th>鍋類-麻辣火鍋</th>\n",
       "      <th>陶芸</th>\n",
       "      <th>餐飲美食</th>\n",
       "      <th>재래시장</th>\n",
       "    </tr>\n",
       "    <tr>\n",
       "      <th>User</th>\n",
       "      <th></th>\n",
       "      <th></th>\n",
       "      <th></th>\n",
       "      <th></th>\n",
       "      <th></th>\n",
       "      <th></th>\n",
       "      <th></th>\n",
       "      <th></th>\n",
       "      <th></th>\n",
       "      <th></th>\n",
       "      <th></th>\n",
       "      <th></th>\n",
       "      <th></th>\n",
       "      <th></th>\n",
       "      <th></th>\n",
       "      <th></th>\n",
       "      <th></th>\n",
       "      <th></th>\n",
       "      <th></th>\n",
       "      <th></th>\n",
       "      <th></th>\n",
       "    </tr>\n",
       "  </thead>\n",
       "  <tbody>\n",
       "    <tr>\n",
       "      <th>Aaron Watters</th>\n",
       "      <td>0.0</td>\n",
       "      <td>0.0</td>\n",
       "      <td>0.0</td>\n",
       "      <td>0.0</td>\n",
       "      <td>0.0</td>\n",
       "      <td>0.0</td>\n",
       "      <td>0.0</td>\n",
       "      <td>0.0</td>\n",
       "      <td>0.0</td>\n",
       "      <td>0.0</td>\n",
       "      <td>...</td>\n",
       "      <td>0.0</td>\n",
       "      <td>0.0</td>\n",
       "      <td>0.0</td>\n",
       "      <td>0.0</td>\n",
       "      <td>0.0</td>\n",
       "      <td>0.0</td>\n",
       "      <td>0.0</td>\n",
       "      <td>0.0</td>\n",
       "      <td>0.0</td>\n",
       "      <td>0.0</td>\n",
       "    </tr>\n",
       "    <tr>\n",
       "      <th>Abdalla Mhyo</th>\n",
       "      <td>0.0</td>\n",
       "      <td>0.0</td>\n",
       "      <td>0.0</td>\n",
       "      <td>0.0</td>\n",
       "      <td>0.0</td>\n",
       "      <td>0.0</td>\n",
       "      <td>0.0</td>\n",
       "      <td>0.0</td>\n",
       "      <td>0.0</td>\n",
       "      <td>0.0</td>\n",
       "      <td>...</td>\n",
       "      <td>0.0</td>\n",
       "      <td>0.0</td>\n",
       "      <td>0.0</td>\n",
       "      <td>0.0</td>\n",
       "      <td>0.0</td>\n",
       "      <td>0.0</td>\n",
       "      <td>0.0</td>\n",
       "      <td>0.0</td>\n",
       "      <td>0.0</td>\n",
       "      <td>0.0</td>\n",
       "    </tr>\n",
       "    <tr>\n",
       "      <th>Abdul Hmouda</th>\n",
       "      <td>0.0</td>\n",
       "      <td>0.0</td>\n",
       "      <td>0.0</td>\n",
       "      <td>0.0</td>\n",
       "      <td>0.0</td>\n",
       "      <td>0.0</td>\n",
       "      <td>0.0</td>\n",
       "      <td>0.0</td>\n",
       "      <td>0.0</td>\n",
       "      <td>0.0</td>\n",
       "      <td>...</td>\n",
       "      <td>0.0</td>\n",
       "      <td>0.0</td>\n",
       "      <td>0.0</td>\n",
       "      <td>0.0</td>\n",
       "      <td>0.0</td>\n",
       "      <td>0.0</td>\n",
       "      <td>0.0</td>\n",
       "      <td>0.0</td>\n",
       "      <td>0.0</td>\n",
       "      <td>0.0</td>\n",
       "    </tr>\n",
       "    <tr>\n",
       "      <th>Abhijeet Acharya</th>\n",
       "      <td>0.0</td>\n",
       "      <td>0.0</td>\n",
       "      <td>0.0</td>\n",
       "      <td>0.0</td>\n",
       "      <td>0.0</td>\n",
       "      <td>0.0</td>\n",
       "      <td>0.0</td>\n",
       "      <td>0.0</td>\n",
       "      <td>0.0</td>\n",
       "      <td>0.0</td>\n",
       "      <td>...</td>\n",
       "      <td>0.0</td>\n",
       "      <td>0.0</td>\n",
       "      <td>0.0</td>\n",
       "      <td>0.0</td>\n",
       "      <td>0.0</td>\n",
       "      <td>0.0</td>\n",
       "      <td>0.0</td>\n",
       "      <td>0.0</td>\n",
       "      <td>0.0</td>\n",
       "      <td>0.0</td>\n",
       "    </tr>\n",
       "    <tr>\n",
       "      <th>Abinand E</th>\n",
       "      <td>0.0</td>\n",
       "      <td>0.0</td>\n",
       "      <td>0.0</td>\n",
       "      <td>0.0</td>\n",
       "      <td>0.0</td>\n",
       "      <td>0.0</td>\n",
       "      <td>0.0</td>\n",
       "      <td>0.0</td>\n",
       "      <td>0.0</td>\n",
       "      <td>0.0</td>\n",
       "      <td>...</td>\n",
       "      <td>0.0</td>\n",
       "      <td>0.0</td>\n",
       "      <td>0.0</td>\n",
       "      <td>0.0</td>\n",
       "      <td>0.0</td>\n",
       "      <td>0.0</td>\n",
       "      <td>0.0</td>\n",
       "      <td>0.0</td>\n",
       "      <td>0.0</td>\n",
       "      <td>0.0</td>\n",
       "    </tr>\n",
       "  </tbody>\n",
       "</table>\n",
       "<p>5 rows × 407 columns</p>\n",
       "</div>"
      ],
      "text/plain": [
       "                       rating                                  \\\n",
       "                         mean                                   \n",
       "Product          ATM Location Acupuncture Clinic Acura Dealer   \n",
       "User                                                            \n",
       "Aaron Watters             0.0                0.0          0.0   \n",
       "Abdalla Mhyo              0.0                0.0          0.0   \n",
       "Abdul Hmouda              0.0                0.0          0.0   \n",
       "Abhijeet Acharya          0.0                0.0          0.0   \n",
       "Abinand E                 0.0                0.0          0.0   \n",
       "\n",
       "                                                                          \\\n",
       "                                                                           \n",
       "Product          Administracif3n Pfablica y... Adult Entertainment Store   \n",
       "User                                                                       \n",
       "Aaron Watters                              0.0                       0.0   \n",
       "Abdalla Mhyo                               0.0                       0.0   \n",
       "Abdul Hmouda                               0.0                       0.0   \n",
       "Abhijeet Acharya                           0.0                       0.0   \n",
       "Abinand E                                  0.0                       0.0   \n",
       "\n",
       "                                                                     \\\n",
       "                                                                      \n",
       "Product          Advertising Agency Aircraft Rental Service Airport   \n",
       "User                                                                  \n",
       "Aaron Watters                   0.0                     0.0     0.0   \n",
       "Abdalla Mhyo                    0.0                     0.0     0.0   \n",
       "Abdul Hmouda                    0.0                     0.0     0.0   \n",
       "Abhijeet Acharya                0.0                     0.0     0.0   \n",
       "Abinand E                       0.0                     0.0     0.0   \n",
       "\n",
       "                                                     ...                    \\\n",
       "                                                     ...                     \n",
       "Product          American Restaurant Amusement Park  ... 日常外食／小吃 日本料理  焼肉店   \n",
       "User                                                 ...                     \n",
       "Aaron Watters                    0.0            0.0  ...     0.0  0.0  0.0   \n",
       "Abdalla Mhyo                     0.0            0.0  ...     0.0  0.0  0.0   \n",
       "Abdul Hmouda                     0.0            0.0  ...     0.0  0.0  0.0   \n",
       "Abhijeet Acharya                 0.0            0.0  ...     0.0  0.0  0.0   \n",
       "Abinand E                        0.0            0.0  ...     0.0  0.0  0.0   \n",
       "\n",
       "                                                                \n",
       "                                                                \n",
       "Product          特色住宿-民宿  製造業 觀光購物-百貨公司 鍋類-麻辣火鍋   陶芸 餐飲美食 재래시장  \n",
       "User                                                            \n",
       "Aaron Watters        0.0  0.0       0.0     0.0  0.0  0.0  0.0  \n",
       "Abdalla Mhyo         0.0  0.0       0.0     0.0  0.0  0.0  0.0  \n",
       "Abdul Hmouda         0.0  0.0       0.0     0.0  0.0  0.0  0.0  \n",
       "Abhijeet Acharya     0.0  0.0       0.0     0.0  0.0  0.0  0.0  \n",
       "Abinand E            0.0  0.0       0.0     0.0  0.0  0.0  0.0  \n",
       "\n",
       "[5 rows x 407 columns]"
      ]
     },
     "execution_count": 8,
     "metadata": {},
     "output_type": "execute_result"
    }
   ],
   "source": [
    "matrice_rating.head()"
   ]
  },
  {
   "cell_type": "code",
   "execution_count": 9,
   "metadata": {},
   "outputs": [],
   "source": [
    "multiplication_vector = matrice_rating.dot(matrice_rating.T)\n",
    "norm_user = np.sqrt((matrice_rating**2).sum(axis = 1))\n",
    "matrice_norm = np.outer(norm_user, norm_user)\n",
    "matrice_similarite_cacul = multiplication_vector/matrice_norm"
   ]
  },
  {
   "cell_type": "code",
   "execution_count": 10,
   "metadata": {},
   "outputs": [
    {
     "data": {
      "text/html": [
       "<div>\n",
       "<style scoped>\n",
       "    .dataframe tbody tr th:only-of-type {\n",
       "        vertical-align: middle;\n",
       "    }\n",
       "\n",
       "    .dataframe tbody tr th {\n",
       "        vertical-align: top;\n",
       "    }\n",
       "\n",
       "    .dataframe thead th {\n",
       "        text-align: right;\n",
       "    }\n",
       "</style>\n",
       "<table border=\"1\" class=\"dataframe\">\n",
       "  <thead>\n",
       "    <tr style=\"text-align: right;\">\n",
       "      <th>User</th>\n",
       "      <th>Aaron Watters</th>\n",
       "      <th>Abdalla Mhyo</th>\n",
       "      <th>Abdul Hmouda</th>\n",
       "      <th>Abhijeet Acharya</th>\n",
       "      <th>Abinand E</th>\n",
       "      <th>Adam Perry</th>\n",
       "      <th>Adrian Villarreal</th>\n",
       "      <th>Adriel Chan</th>\n",
       "      <th>Ahmad Syameel Anuar</th>\n",
       "      <th>Alan Tower</th>\n",
       "      <th>...</th>\n",
       "      <th>吳明錦</th>\n",
       "      <th>吳雨澄</th>\n",
       "      <th>如月蒼薇</th>\n",
       "      <th>小劉文彬</th>\n",
       "      <th>李棟梁</th>\n",
       "      <th>翁煒智</th>\n",
       "      <th>陳建良</th>\n",
       "      <th>黃小胖</th>\n",
       "      <th>黃郁惠</th>\n",
       "      <th>구시아</th>\n",
       "    </tr>\n",
       "    <tr>\n",
       "      <th>User</th>\n",
       "      <th></th>\n",
       "      <th></th>\n",
       "      <th></th>\n",
       "      <th></th>\n",
       "      <th></th>\n",
       "      <th></th>\n",
       "      <th></th>\n",
       "      <th></th>\n",
       "      <th></th>\n",
       "      <th></th>\n",
       "      <th></th>\n",
       "      <th></th>\n",
       "      <th></th>\n",
       "      <th></th>\n",
       "      <th></th>\n",
       "      <th></th>\n",
       "      <th></th>\n",
       "      <th></th>\n",
       "      <th></th>\n",
       "      <th></th>\n",
       "      <th></th>\n",
       "    </tr>\n",
       "  </thead>\n",
       "  <tbody>\n",
       "    <tr>\n",
       "      <th>Aaron Watters</th>\n",
       "      <td>1.0</td>\n",
       "      <td>0.0</td>\n",
       "      <td>0.0</td>\n",
       "      <td>0.0</td>\n",
       "      <td>0.0</td>\n",
       "      <td>0.0</td>\n",
       "      <td>0.0</td>\n",
       "      <td>0.0</td>\n",
       "      <td>0.0</td>\n",
       "      <td>0.126936</td>\n",
       "      <td>...</td>\n",
       "      <td>0.0</td>\n",
       "      <td>0.0</td>\n",
       "      <td>0.0</td>\n",
       "      <td>0.0</td>\n",
       "      <td>0.0</td>\n",
       "      <td>0.0</td>\n",
       "      <td>0.000000</td>\n",
       "      <td>0.0</td>\n",
       "      <td>0.0</td>\n",
       "      <td>0.0</td>\n",
       "    </tr>\n",
       "    <tr>\n",
       "      <th>Abdalla Mhyo</th>\n",
       "      <td>0.0</td>\n",
       "      <td>1.0</td>\n",
       "      <td>0.0</td>\n",
       "      <td>0.0</td>\n",
       "      <td>0.0</td>\n",
       "      <td>0.0</td>\n",
       "      <td>0.0</td>\n",
       "      <td>0.0</td>\n",
       "      <td>0.0</td>\n",
       "      <td>0.000000</td>\n",
       "      <td>...</td>\n",
       "      <td>0.0</td>\n",
       "      <td>0.0</td>\n",
       "      <td>0.0</td>\n",
       "      <td>0.0</td>\n",
       "      <td>0.0</td>\n",
       "      <td>0.0</td>\n",
       "      <td>0.000000</td>\n",
       "      <td>0.0</td>\n",
       "      <td>0.0</td>\n",
       "      <td>0.0</td>\n",
       "    </tr>\n",
       "    <tr>\n",
       "      <th>Abdul Hmouda</th>\n",
       "      <td>0.0</td>\n",
       "      <td>0.0</td>\n",
       "      <td>1.0</td>\n",
       "      <td>0.0</td>\n",
       "      <td>0.0</td>\n",
       "      <td>0.0</td>\n",
       "      <td>0.0</td>\n",
       "      <td>0.0</td>\n",
       "      <td>0.0</td>\n",
       "      <td>0.000000</td>\n",
       "      <td>...</td>\n",
       "      <td>0.0</td>\n",
       "      <td>0.0</td>\n",
       "      <td>0.0</td>\n",
       "      <td>0.0</td>\n",
       "      <td>0.0</td>\n",
       "      <td>0.0</td>\n",
       "      <td>0.000000</td>\n",
       "      <td>0.0</td>\n",
       "      <td>0.0</td>\n",
       "      <td>0.0</td>\n",
       "    </tr>\n",
       "    <tr>\n",
       "      <th>Abhijeet Acharya</th>\n",
       "      <td>0.0</td>\n",
       "      <td>0.0</td>\n",
       "      <td>0.0</td>\n",
       "      <td>1.0</td>\n",
       "      <td>0.0</td>\n",
       "      <td>0.0</td>\n",
       "      <td>0.0</td>\n",
       "      <td>0.0</td>\n",
       "      <td>0.0</td>\n",
       "      <td>0.000000</td>\n",
       "      <td>...</td>\n",
       "      <td>0.0</td>\n",
       "      <td>0.0</td>\n",
       "      <td>0.0</td>\n",
       "      <td>0.0</td>\n",
       "      <td>0.0</td>\n",
       "      <td>0.0</td>\n",
       "      <td>0.650945</td>\n",
       "      <td>0.0</td>\n",
       "      <td>1.0</td>\n",
       "      <td>0.0</td>\n",
       "    </tr>\n",
       "    <tr>\n",
       "      <th>Abinand E</th>\n",
       "      <td>0.0</td>\n",
       "      <td>0.0</td>\n",
       "      <td>0.0</td>\n",
       "      <td>0.0</td>\n",
       "      <td>1.0</td>\n",
       "      <td>0.0</td>\n",
       "      <td>0.0</td>\n",
       "      <td>0.0</td>\n",
       "      <td>0.0</td>\n",
       "      <td>0.000000</td>\n",
       "      <td>...</td>\n",
       "      <td>0.0</td>\n",
       "      <td>0.0</td>\n",
       "      <td>0.0</td>\n",
       "      <td>1.0</td>\n",
       "      <td>0.0</td>\n",
       "      <td>0.0</td>\n",
       "      <td>0.000000</td>\n",
       "      <td>0.0</td>\n",
       "      <td>0.0</td>\n",
       "      <td>0.0</td>\n",
       "    </tr>\n",
       "  </tbody>\n",
       "</table>\n",
       "<p>5 rows × 476 columns</p>\n",
       "</div>"
      ],
      "text/plain": [
       "User              Aaron Watters  Abdalla Mhyo  Abdul Hmouda  Abhijeet Acharya  \\\n",
       "User                                                                            \n",
       "Aaron Watters               1.0           0.0           0.0               0.0   \n",
       "Abdalla Mhyo                0.0           1.0           0.0               0.0   \n",
       "Abdul Hmouda                0.0           0.0           1.0               0.0   \n",
       "Abhijeet Acharya            0.0           0.0           0.0               1.0   \n",
       "Abinand E                   0.0           0.0           0.0               0.0   \n",
       "\n",
       "User              Abinand E  Adam Perry  Adrian Villarreal  Adriel Chan  \\\n",
       "User                                                                      \n",
       "Aaron Watters           0.0         0.0                0.0          0.0   \n",
       "Abdalla Mhyo            0.0         0.0                0.0          0.0   \n",
       "Abdul Hmouda            0.0         0.0                0.0          0.0   \n",
       "Abhijeet Acharya        0.0         0.0                0.0          0.0   \n",
       "Abinand E               1.0         0.0                0.0          0.0   \n",
       "\n",
       "User              Ahmad Syameel Anuar  Alan Tower  ...  吳明錦  吳雨澄  如月蒼薇  小劉文彬  \\\n",
       "User                                               ...                         \n",
       "Aaron Watters                     0.0    0.126936  ...  0.0  0.0   0.0   0.0   \n",
       "Abdalla Mhyo                      0.0    0.000000  ...  0.0  0.0   0.0   0.0   \n",
       "Abdul Hmouda                      0.0    0.000000  ...  0.0  0.0   0.0   0.0   \n",
       "Abhijeet Acharya                  0.0    0.000000  ...  0.0  0.0   0.0   0.0   \n",
       "Abinand E                         0.0    0.000000  ...  0.0  0.0   0.0   1.0   \n",
       "\n",
       "User              李棟梁  翁煒智       陳建良  黃小胖  黃郁惠  구시아  \n",
       "User                                                 \n",
       "Aaron Watters     0.0  0.0  0.000000  0.0  0.0  0.0  \n",
       "Abdalla Mhyo      0.0  0.0  0.000000  0.0  0.0  0.0  \n",
       "Abdul Hmouda      0.0  0.0  0.000000  0.0  0.0  0.0  \n",
       "Abhijeet Acharya  0.0  0.0  0.650945  0.0  1.0  0.0  \n",
       "Abinand E         0.0  0.0  0.000000  0.0  0.0  0.0  \n",
       "\n",
       "[5 rows x 476 columns]"
      ]
     },
     "execution_count": 10,
     "metadata": {},
     "output_type": "execute_result"
    }
   ],
   "source": [
    "matrice_similarite_cacul.head()"
   ]
  },
  {
   "cell_type": "code",
   "execution_count": 11,
   "metadata": {},
   "outputs": [
    {
     "name": "stdout",
     "output_type": "stream",
     "text": [
      "Requirement already satisfied: networkx in c:\\users\\abdo\\anaconda3\\lib\\site-packages (2.4)Note: you may need to restart the kernel to use updated packages.\n",
      "\n",
      "Requirement already satisfied: decorator>=4.3.0 in c:\\users\\abdo\\anaconda3\\lib\\site-packages (from networkx) (4.4.2)\n"
     ]
    }
   ],
   "source": [
    "pip install networkx"
   ]
  },
  {
   "cell_type": "code",
   "execution_count": 12,
   "metadata": {},
   "outputs": [],
   "source": [
    "import networkx as nx\n",
    "G = nx.Graph()"
   ]
  },
  {
   "cell_type": "code",
   "execution_count": 13,
   "metadata": {},
   "outputs": [],
   "source": [
    "G = nx.from_pandas_adjacency(matrice_similarite_cacul)"
   ]
  },
  {
   "cell_type": "code",
   "execution_count": 14,
   "metadata": {},
   "outputs": [
    {
     "data": {
      "text/plain": [
       "'Name: \\nType: Graph\\nNumber of nodes: 476\\nNumber of edges: 5503\\nAverage degree:  23.1218'"
      ]
     },
     "execution_count": 14,
     "metadata": {},
     "output_type": "execute_result"
    }
   ],
   "source": [
    "nx.info(G)"
   ]
  },
  {
   "cell_type": "code",
   "execution_count": 15,
   "metadata": {},
   "outputs": [],
   "source": [
    "FG = nx.Graph()"
   ]
  },
  {
   "cell_type": "code",
   "execution_count": 20,
   "metadata": {},
   "outputs": [],
   "source": [
    "for n, nbrs in G.adj.items():\n",
    "   for nbr, eattr in nbrs.items():\n",
    "       wt = eattr['weight']\n",
    "       if wt > 0.85 and n != nbr : FG.add_weighted_edges_from([(n, nbr, wt)]) "
   ]
  },
  {
   "cell_type": "code",
   "execution_count": 21,
   "metadata": {},
   "outputs": [
    {
     "data": {
      "text/plain": [
       "AtlasView({'Alessio Nocerino': {'weight': 1.0}, 'Ali Gokcek': {'weight': 0.9284766908852593}, 'Andrey C': {'weight': 1.0}, 'Ashley Craig': {'weight': 0.7808688094430304}, 'Aure9lie Balmy': {'weight': 1.0}, 'Brianna bounds': {'weight': 1.0}, 'Cristina P.': {'weight': 0.7071067811865476}, 'Cristobal Saavedra': {'weight': 1.0}, 'Giovanni Vernengo': {'weight': 0.7071067811865475}, 'Hermes Luca': {'weight': 0.7071067811865475}, 'Jason W. Crews': {'weight': 0.7808688094430304}, 'Juan Angel Garcia Fimia': {'weight': 0.7071067811865475}, 'Lewis Small': {'weight': 0.7001400420140048}, 'Linette Ida': {'weight': 0.7071067811865475}, 'Lori Ann Hoffman': {'weight': 1.0}, 'Maggie Johnson': {'weight': 1.0}, 'Michelle Newby': {'weight': 1.0}, 'Nakamura Zen': {'weight': 0.7071067811865475}, 'Regiane Rodrigues': {'weight': 1.0}, 'Shey La': {'weight': 1.0}, 'Shila Ghashghaee': {'weight': 1.0}, 'Wolfgang Graf': {'weight': 0.8}, 'Zaaheda Hosein': {'weight': 1.0}, 'Zozo Sharbjy': {'weight': 1.0}, 'isaqeu jesus': {'weight': 1.0}, 'ธีรัตม์ คุ้มแถว': {'weight': 1.0}, '黃郁惠': {'weight': 1.0}})"
      ]
     },
     "execution_count": 21,
     "metadata": {},
     "output_type": "execute_result"
    }
   ],
   "source": [
    "# FG.edges(data=True)\n",
    "FG[\"Abhijeet Acharya\"]"
   ]
  },
  {
   "cell_type": "code",
   "execution_count": 22,
   "metadata": {},
   "outputs": [
    {
     "data": {
      "text/plain": [
       "'Name: \\nType: Graph\\nNumber of nodes: 267\\nNumber of edges: 1513\\nAverage degree:  11.3333'"
      ]
     },
     "execution_count": 22,
     "metadata": {},
     "output_type": "execute_result"
    }
   ],
   "source": [
    "nx.info(FG)"
   ]
  },
  {
   "cell_type": "code",
   "execution_count": 23,
   "metadata": {},
   "outputs": [
    {
     "data": {
      "image/png": "[encoded data removed]",
      "text/plain": [
       "<Figure size 432x288 with 1 Axes>"
      ]
     },
     "metadata": {},
     "output_type": "display_data"
    }
   ],
   "source": [
    "nx.draw(FG,font_weight='bold', node_size=5, weight_size=0.2, width=1)"
   ]
  },
  {
   "cell_type": "code",
   "execution_count": null,
   "metadata": {},
   "outputs": [],
   "source": []
  }
 ],
 "metadata": {
  "kernelspec": {
   "display_name": "Python 3",
   "language": "python",
   "name": "python3"
  },
  "language_info": {
   "codemirror_mode": {
    "name": "ipython",
    "version": 3
   },
   "file_extension": ".py",
   "mimetype": "text/x-python",
   "name": "python",
   "nbconvert_exporter": "python",
   "pygments_lexer": "ipython3",
   "version": "3.8.3"
  }
 },
 "nbformat": 4,
 "nbformat_minor": 4
}
